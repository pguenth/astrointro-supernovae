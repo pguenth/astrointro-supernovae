{
 "cells": [
  {
   "cell_type": "markdown",
   "metadata": {},
   "source": [
    "# Supernova Type 1a \n",
    "follow Chapter 4 of <a href=https://arxiv.org/pdf/1411.3596.pdf> Standardization of type Ia supernovae </a> <br>\n",
    "with data from <a href=https://csp.obs.carnegiescience.edu/data/CSP_Photometry_DR2.tar.gz/view> Carnegie Supernova Project</a> <br>\n",
    "additional Info <a href=http://www.physik.uni-regensburg.de/forschung/gebhardt/gebhardt_files/skripten/Entfernungsbest.pdf> Entfernungsmessung mit SNs </a>"
   ]
  },
  {
   "cell_type": "code",
   "execution_count": null,
   "metadata": {},
   "outputs": [],
   "source": [
    "import numpy as np\n",
    "import matplotlib.pyplot as plt\n",
    "import glob\n",
    "import re\n",
    "from scipy import optimize, interpolate"
   ]
  },
  {
   "cell_type": "markdown",
   "metadata": {},
   "source": [
    "## 1. Load Data"
   ]
  },
  {
   "cell_type": "code",
   "execution_count": null,
   "metadata": {},
   "outputs": [],
   "source": [
    "lightcurves = {}\n",
    "zcmb = {}\n",
    "\n",
    "use_only = [\"2004ef\", \"2004eo\", \"2004ey\", \"2005M\", \"2005hc\", \"2005iq\", \"2005kc\", \"2006X\", \"2006ax\", \"2006bh\", \"2007af\", \"2007le\", \"2007on\", \"2008bc\", \"2008fp\", \"2008gp\", \"2008hv\"]\n",
    "\n",
    "subprocess.run([\"curl\", \"-o\", \"data.tar.gz\", \"https://csp.obs.carnegiescience.edu/data/CSP_Photometry_DR2.tar.gz/at_download/file\"])\n",
    "subprocess.run([\"tar\", \"-xf\", \"data.tar.gz\"])\n",
    "\n",
    "for f in glob.glob('./CSP_Photometry_DR2/*.dat'):\n",
    "    sn_name = re.search(\"SN(.*)opt\", f).group(1)\n",
    "    if not sn_name in use_only:\n",
    "        continue\n",
    "        \n",
    "    lc_raw = np.loadtxt(f)\n",
    "    time_raw = lc_raw.T[0]\n",
    "    flux_raw = -lc_raw.T[3]\n",
    "\n",
    "    mask = np.where(flux_raw != -99.9)\n",
    "    time_filtered = time_raw[mask]\n",
    "    flux_filtered = flux_raw[mask]\n",
    "    \n",
    "    # alternative without numpy: list comprehension\n",
    "    # time_filtered = [t for t, f in zip(time_raw, flux_raw) if f != 99.990]\n",
    "    # flux_filtered = [f for f in flux_raw if f != 99.990]\n",
    "    \n",
    "    lightcurves[sn_name] = (time_filtered, flux_filtered)\n",
    "    with open(f, mode=\"r\") as fp:\n",
    "        zcmb_str = re.search(\"zcmb = ([0-9.]*)\", fp.read()).group(1)\n",
    "    \n",
    "    zcmb[sn_name] = float(zcmb_str)\n"
   ]
  },
  {
   "cell_type": "markdown",
   "metadata": {},
   "source": [
    "### 1.2. all LCs"
   ]
  },
  {
   "cell_type": "code",
   "execution_count": null,
   "metadata": {},
   "outputs": [],
   "source": [
    "def show_lcs(lightcurves, figsize=None):\n",
    "    fig, ax = plt.subplots()\n",
    "    \n",
    "    if not figsize is None:\n",
    "        fig.set_size_inches((14, 4))\n",
    "    \n",
    "    for _, (lc_time, lc_flux) in lightcurves.items():\n",
    "        ax.plot(lc_time, lc_flux, marker='+', linewidth=0)\n",
    "\n",
    "show_lcs(lightcurves, figsize=(14, 4))"
   ]
  },
  {
   "cell_type": "markdown",
   "metadata": {},
   "source": [
    "## 2. Time Axis Correction\n",
    "define a common time scale: <br>\n",
    "express time axis as phase = time - time of maxiumum "
   ]
  },
  {
   "cell_type": "markdown",
   "metadata": {},
   "source": [
    "## 3. Redshift and Distance Correction \n",
    "\n",
    "change from emission to observer rest frame causes\n",
    "\n",
    "* change of timescale according to:  $\\frac{\\Delta t_{obs}}{\\Delta t_{em}} = z+1$ (only small change since all are close)\n",
    "\n",
    "* offset of the magnitude due to both the redshift and the distance <br>\n",
    "we don't know distance and afterwards magnitues might still not coincide because of other differences in absolute magnitude <br>\n",
    "so we just take mean of all peaks and move (the peak of) each SN to that value\n",
    "\n",
    "\n"
   ]
  },
  {
   "cell_type": "markdown",
   "metadata": {},
   "source": [
    "## 4. Stretch Correction\n",
    "the width difference in the light curves is associated to their intrinsic brightness (broader ↔ brighter)<br>\n",
    "compensate brightness difference by stretching it"
   ]
  }
 ],
 "metadata": {
  "kernelspec": {
   "display_name": "Python 3 (ipykernel)",
   "language": "python",
   "name": "python3"
  },
  "language_info": {
   "codemirror_mode": {
    "name": "ipython",
    "version": 3
   },
   "file_extension": ".py",
   "mimetype": "text/x-python",
   "name": "python",
   "nbconvert_exporter": "python",
   "pygments_lexer": "ipython3",
   "version": "3.12.3"
  }
 },
 "nbformat": 4,
 "nbformat_minor": 4
}
